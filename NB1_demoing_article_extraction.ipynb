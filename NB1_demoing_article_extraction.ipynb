{
 "cells": [
  {
   "cell_type": "code",
   "execution_count": 1,
   "metadata": {},
   "outputs": [],
   "source": [
    "# standard library imports\n",
    "import sys\n",
    "import time\n",
    "sys.path.append('..')\n",
    "# third party imports\n",
    "import pandas as pd\n",
    "from tqdm import tqdm\n",
    "import numpy as np\n",
    "# local imports\n",
    "from bbc_monitoring.api_wrapper import BBCMonitoringApi"
   ]
  },
  {
   "cell_type": "markdown",
   "metadata": {},
   "source": [
    "## Using the BBC-Monitoring API to build a dataset of location/article pairs\n",
    "We'll start by building a smaller test set to see how the current model fairs on out of domain problems. "
   ]
  },
  {
   "cell_type": "code",
   "execution_count": 4,
   "metadata": {},
   "outputs": [],
   "source": [
    "# load the api\n",
    "api = BBCMonitoringApi(api_key_path='data/api_key.json')\n",
    "# load a list of cities to search for\n",
    "all_cities_df = pd.read_csv('data/geonames_world_cities.csv', delimiter=';')\n",
    "cities_df = all_cities_df[all_cities_df.Population >= 100000]\n",
    "cities_df = cities_df.reset_index()"
   ]
  },
  {
   "cell_type": "code",
   "execution_count": 3,
   "metadata": {},
   "outputs": [],
   "source": [
    "# Add the ISO3 code used by BBC-Monitoring to the city dataframe\n",
    "iso_lookup = pd.read_csv('data/country_iso_lookup.csv', encoding='latin')\n",
    "iso3_codes = []\n",
    "for i, row in cities_df.iterrows():\n",
    "    iso2 = row['Country Code']\n",
    "    try:\n",
    "        iso3 = iso_lookup[iso_lookup.ISO2==iso2].ISO3.iloc[0]\n",
    "    except:\n",
    "        iso3 = np.nan\n",
    "    iso3_codes.append(iso3)\n",
    "        \n",
    "cities_df['iso3'] = iso3_codes\n",
    "cities_df = cities_df[cities_df.iso3.notna()]"
   ]
  },
  {
   "cell_type": "code",
   "execution_count": null,
   "metadata": {},
   "outputs": [],
   "source": [
    "# build a zipped list of (city, country) pairs\n",
    "cities = zip(cities_df['ASCII Name'].values, cities_df.iso3.values)\n",
    "# search headlines for those places. We'll also check the country is correct.\n",
    "article_info = []\n",
    "for city, country in tqdm(cities, total = len(cities_df.Name.values)):\n",
    "    try:\n",
    "        articles = api.search_headlines(city)['products']\n",
    "    except:\n",
    "        continue\n",
    "    # Sleep to avoid hitting rate limit (60 articles/min)\n",
    "    time.sleep(1)\n",
    "    for article in articles:\n",
    "        # check that the article country is correct\n",
    "        if country in (article['subjectCountryIds']):\n",
    "            article_info.append({'id':article['id'], 'city':city, 'country':country})"
   ]
  },
  {
   "cell_type": "code",
   "execution_count": 20,
   "metadata": {},
   "outputs": [],
   "source": [
    "article_info_df = pd.DataFrame(article_info)\n",
    "article_info_df.to_csv('data/article_info.csv', index=False)"
   ]
  },
  {
   "cell_type": "code",
   "execution_count": 2,
   "metadata": {},
   "outputs": [],
   "source": [
    "article_info = pd.read_csv('data/article_info.csv')"
   ]
  },
  {
   "cell_type": "code",
   "execution_count": null,
   "metadata": {},
   "outputs": [],
   "source": [
    "article_data = []\n",
    "for i, info in tqdm(article_info.iterrows(),total=len(article_info)):\n",
    "    content = api.search_by_id(info['id'])\n",
    "    text = api.parse_article(content)\n",
    "    info['text'] = text\n",
    "    article_data.append(info)\n",
    "    time.sleep(1)\n",
    "    "
   ]
  },
  {
   "cell_type": "code",
   "execution_count": 12,
   "metadata": {},
   "outputs": [
    {
     "data": {
      "text/html": [
       "<div>\n",
       "<style scoped>\n",
       "    .dataframe tbody tr th:only-of-type {\n",
       "        vertical-align: middle;\n",
       "    }\n",
       "\n",
       "    .dataframe tbody tr th {\n",
       "        vertical-align: top;\n",
       "    }\n",
       "\n",
       "    .dataframe thead th {\n",
       "        text-align: right;\n",
       "    }\n",
       "</style>\n",
       "<table border=\"1\" class=\"dataframe\">\n",
       "  <thead>\n",
       "    <tr style=\"text-align: right;\">\n",
       "      <th></th>\n",
       "      <th>id</th>\n",
       "      <th>city</th>\n",
       "      <th>country</th>\n",
       "      <th>text</th>\n",
       "    </tr>\n",
       "  </thead>\n",
       "  <tbody>\n",
       "    <tr>\n",
       "      <th>0</th>\n",
       "      <td>c204jinn</td>\n",
       "      <td>Omsk</td>\n",
       "      <td>RUS</td>\n",
       "      <td>Russia's Federal Security Service (FSB) has re...</td>\n",
       "    </tr>\n",
       "    <tr>\n",
       "      <th>1</th>\n",
       "      <td>c204jidk</td>\n",
       "      <td>Omsk</td>\n",
       "      <td>RUS</td>\n",
       "      <td>Vladimir Putin had a working meeting with Acti...</td>\n",
       "    </tr>\n",
       "    <tr>\n",
       "      <th>2</th>\n",
       "      <td>c2046uay</td>\n",
       "      <td>Omsk</td>\n",
       "      <td>RUS</td>\n",
       "      <td>President Vladimir Putin has appointed the hea...</td>\n",
       "    </tr>\n",
       "    <tr>\n",
       "      <th>3</th>\n",
       "      <td>c2013td1</td>\n",
       "      <td>Omsk</td>\n",
       "      <td>RUS</td>\n",
       "      <td>Russian police have searched the home of a vol...</td>\n",
       "    </tr>\n",
       "    <tr>\n",
       "      <th>4</th>\n",
       "      <td>c200a87d</td>\n",
       "      <td>Omsk</td>\n",
       "      <td>RUS</td>\n",
       "      <td>A riot broke out at a high-security penal colo...</td>\n",
       "    </tr>\n",
       "    <tr>\n",
       "      <th>5</th>\n",
       "      <td>m1cogd38</td>\n",
       "      <td>Omsk</td>\n",
       "      <td>RUS</td>\n",
       "      <td>An experimental design bureau in the Omsk Stat...</td>\n",
       "    </tr>\n",
       "    <tr>\n",
       "      <th>6</th>\n",
       "      <td>m1c1r60x</td>\n",
       "      <td>Omsk</td>\n",
       "      <td>RUS</td>\n",
       "      <td>Moscow, 19 August: Russia's [armoured vehicle ...</td>\n",
       "    </tr>\n",
       "    <tr>\n",
       "      <th>7</th>\n",
       "      <td>00019947</td>\n",
       "      <td>Omsk</td>\n",
       "      <td>RUS</td>\n",
       "      <td>Omsk, 9 April: Viktor Nazarov was approved for...</td>\n",
       "    </tr>\n",
       "    <tr>\n",
       "      <th>8</th>\n",
       "      <td>m1aby505</td>\n",
       "      <td>Omsk</td>\n",
       "      <td>RUS</td>\n",
       "      <td>Moscow, 3 April: Russian President Dmitriy Med...</td>\n",
       "    </tr>\n",
       "    <tr>\n",
       "      <th>9</th>\n",
       "      <td>70175789</td>\n",
       "      <td>Omsk</td>\n",
       "      <td>RUS</td>\n",
       "      <td>[Report by Anastasiya Mitkovskaya and Viktor K...</td>\n",
       "    </tr>\n",
       "    <tr>\n",
       "      <th>10</th>\n",
       "      <td>m19y5v1j</td>\n",
       "      <td>Omsk</td>\n",
       "      <td>RUS</td>\n",
       "      <td>Omsk, 23 September: The Omsk directorate of th...</td>\n",
       "    </tr>\n",
       "    <tr>\n",
       "      <th>11</th>\n",
       "      <td>m19s8ulf</td>\n",
       "      <td>Omsk</td>\n",
       "      <td>RUS</td>\n",
       "      <td>[Presenter] Classical music and armoured vehic...</td>\n",
       "    </tr>\n",
       "    <tr>\n",
       "      <th>12</th>\n",
       "      <td>60035088</td>\n",
       "      <td>Omsk</td>\n",
       "      <td>RUS</td>\n",
       "      <td>An unidentified explosive device went off on t...</td>\n",
       "    </tr>\n",
       "    <tr>\n",
       "      <th>13</th>\n",
       "      <td>60020565</td>\n",
       "      <td>Omsk</td>\n",
       "      <td>RUS</td>\n",
       "      <td>Moscow, 4 August: Officers of the Omsk police ...</td>\n",
       "    </tr>\n",
       "    <tr>\n",
       "      <th>14</th>\n",
       "      <td>m18qam56</td>\n",
       "      <td>Omsk</td>\n",
       "      <td>RUS</td>\n",
       "      <td>[Presenter] Activists from the Solidarity [opp...</td>\n",
       "    </tr>\n",
       "    <tr>\n",
       "      <th>15</th>\n",
       "      <td>70124205</td>\n",
       "      <td>Omsk</td>\n",
       "      <td>RUS</td>\n",
       "      <td>[Report by Georgiy Borodyanskiy in Omsk: \"Puti...</td>\n",
       "    </tr>\n",
       "    <tr>\n",
       "      <th>16</th>\n",
       "      <td>00000875</td>\n",
       "      <td>Omsk</td>\n",
       "      <td>RUS</td>\n",
       "      <td>Omsk, 11 September: Drug police have burnt 186...</td>\n",
       "    </tr>\n",
       "    <tr>\n",
       "      <th>17</th>\n",
       "      <td>30055395</td>\n",
       "      <td>Omsk</td>\n",
       "      <td>RUS</td>\n",
       "      <td>[Presenter] In the near future a new class of ...</td>\n",
       "    </tr>\n",
       "    <tr>\n",
       "      <th>18</th>\n",
       "      <td>m15l5yiw</td>\n",
       "      <td>Omsk</td>\n",
       "      <td>RUS</td>\n",
       "      <td>Moscow, 27 August: Regiments and divisions of ...</td>\n",
       "    </tr>\n",
       "    <tr>\n",
       "      <th>19</th>\n",
       "      <td>30047771</td>\n",
       "      <td>Omsk</td>\n",
       "      <td>RUS</td>\n",
       "      <td>[Presenter] Virtual terrorists, a man made of ...</td>\n",
       "    </tr>\n",
       "  </tbody>\n",
       "</table>\n",
       "</div>"
      ],
      "text/plain": [
       "          id  city country                                               text\n",
       "0   c204jinn  Omsk     RUS  Russia's Federal Security Service (FSB) has re...\n",
       "1   c204jidk  Omsk     RUS  Vladimir Putin had a working meeting with Acti...\n",
       "2   c2046uay  Omsk     RUS  President Vladimir Putin has appointed the hea...\n",
       "3   c2013td1  Omsk     RUS  Russian police have searched the home of a vol...\n",
       "4   c200a87d  Omsk     RUS  A riot broke out at a high-security penal colo...\n",
       "5   m1cogd38  Omsk     RUS  An experimental design bureau in the Omsk Stat...\n",
       "6   m1c1r60x  Omsk     RUS  Moscow, 19 August: Russia's [armoured vehicle ...\n",
       "7   00019947  Omsk     RUS  Omsk, 9 April: Viktor Nazarov was approved for...\n",
       "8   m1aby505  Omsk     RUS  Moscow, 3 April: Russian President Dmitriy Med...\n",
       "9   70175789  Omsk     RUS  [Report by Anastasiya Mitkovskaya and Viktor K...\n",
       "10  m19y5v1j  Omsk     RUS  Omsk, 23 September: The Omsk directorate of th...\n",
       "11  m19s8ulf  Omsk     RUS  [Presenter] Classical music and armoured vehic...\n",
       "12  60035088  Omsk     RUS  An unidentified explosive device went off on t...\n",
       "13  60020565  Omsk     RUS  Moscow, 4 August: Officers of the Omsk police ...\n",
       "14  m18qam56  Omsk     RUS  [Presenter] Activists from the Solidarity [opp...\n",
       "15  70124205  Omsk     RUS  [Report by Georgiy Borodyanskiy in Omsk: \"Puti...\n",
       "16  00000875  Omsk     RUS  Omsk, 11 September: Drug police have burnt 186...\n",
       "17  30055395  Omsk     RUS  [Presenter] In the near future a new class of ...\n",
       "18  m15l5yiw  Omsk     RUS  Moscow, 27 August: Regiments and divisions of ...\n",
       "19  30047771  Omsk     RUS  [Presenter] Virtual terrorists, a man made of ..."
      ]
     },
     "execution_count": 12,
     "metadata": {},
     "output_type": "execute_result"
    }
   ],
   "source": [
    "article_df = pd.DataFrame(article_data)\n",
    "article_df.head(20)"
   ]
  },
  {
   "cell_type": "code",
   "execution_count": 13,
   "metadata": {},
   "outputs": [],
   "source": [
    "article_df.to_csv('articles_text.csv', index=False)"
   ]
  },
  {
   "cell_type": "code",
   "execution_count": 14,
   "metadata": {},
   "outputs": [],
   "source": [
    "api.end_session()"
   ]
  },
  {
   "cell_type": "markdown",
   "metadata": {},
   "source": [
    "To make these into workable inputs into the neural-net model we will need to do a couple of things. First, lets remove any capital cities. This will avoid articles which use the capital city as a synecdoche for a country's government, for example in the headline \"Beijing steps up military pressure on Taiwan\". We'll use a list of capital cities from https://github.com/icyrockcom/country-capitals/blob/master/data/country-list.csv as a lookup for capitals. We'll also use fuzzy-string matching to account for missing accents and differences in spelling."
   ]
  },
  {
   "cell_type": "code",
   "execution_count": 16,
   "metadata": {},
   "outputs": [],
   "source": [
    "from thefuzz import fuzz"
   ]
  },
  {
   "cell_type": "code",
   "execution_count": 43,
   "metadata": {},
   "outputs": [
    {
     "name": "stdout",
     "output_type": "stream",
     "text": [
      "Total cities : 1733\n",
      "Captials removed : 137\n"
     ]
    }
   ],
   "source": [
    "capitals_df = pd.read_csv('data/country-capital-list.csv')\n",
    "capitals = capitals_df.capital.values\n",
    "similarity_threshold = 80\n",
    "\n",
    "cities_to_remove = []\n",
    "for city in article_df.city.unique():\n",
    "    for capital in capitals:\n",
    "        if fuzz.ratio(city, capital) > similarity_threshold:\n",
    "            cities_to_remove.append(city)\n",
    "\n",
    "print(f'Total cities : {len(article_df.city.unique())}')\n",
    "print(f'Captials removed : {len(set(cities_to_remove))}')"
   ]
  },
  {
   "cell_type": "code",
   "execution_count": 47,
   "metadata": {},
   "outputs": [
    {
     "name": "stdout",
     "output_type": "stream",
     "text": [
      "13180\n"
     ]
    }
   ],
   "source": [
    "# get rid of the identified capitals\n",
    "article_df = article_df[~article_df.city.isin(cities_to_remove)]\n",
    "print(len(article_df))"
   ]
  },
  {
   "cell_type": "markdown",
   "metadata": {},
   "source": [
    "We now need to split the articles out into full sentences (or sets of sentences) containing up to 60 words. The model requiresw maximum sentence length to be 80 tokens, but we will need to account for tokens split accross multiple words and for punctuation."
   ]
  },
  {
   "cell_type": "code",
   "execution_count": 49,
   "metadata": {},
   "outputs": [
    {
     "name": "stderr",
     "output_type": "stream",
     "text": [
      "[nltk_data] Downloading package punkt to\n",
      "[nltk_data]     C:\\Users\\jws10y\\AppData\\Roaming\\nltk_data...\n",
      "[nltk_data]   Package punkt is already up-to-date!\n"
     ]
    }
   ],
   "source": [
    "import nltk\n",
    "nltk.download('punkt')\n",
    "\n",
    "def split_into_sentences(text, max_words=60):\n",
    "    sentences = nltk.sent_tokenize(text)\n",
    "    result = []\n",
    "    current_sentence = \"\"\n",
    "\n",
    "    for sentence in sentences:\n",
    "        if len(current_sentence.split()) + len(sentence.split()) <= max_words:\n",
    "            current_sentence += \" \" + sentence\n",
    "        else:\n",
    "            result.append(current_sentence.strip())\n",
    "            current_sentence = sentence\n",
    "\n",
    "    # Add the last substring\n",
    "    if current_sentence:\n",
    "        result.append(current_sentence.strip())\n",
    "\n",
    "    return result\n",
    "\n"
   ]
  },
  {
   "cell_type": "code",
   "execution_count": 50,
   "metadata": {},
   "outputs": [
    {
     "data": {
      "text/html": [
       "<div>\n",
       "<style scoped>\n",
       "    .dataframe tbody tr th:only-of-type {\n",
       "        vertical-align: middle;\n",
       "    }\n",
       "\n",
       "    .dataframe tbody tr th {\n",
       "        vertical-align: top;\n",
       "    }\n",
       "\n",
       "    .dataframe thead th {\n",
       "        text-align: right;\n",
       "    }\n",
       "</style>\n",
       "<table border=\"1\" class=\"dataframe\">\n",
       "  <thead>\n",
       "    <tr style=\"text-align: right;\">\n",
       "      <th></th>\n",
       "      <th>id</th>\n",
       "      <th>city</th>\n",
       "      <th>country</th>\n",
       "      <th>text</th>\n",
       "    </tr>\n",
       "  </thead>\n",
       "  <tbody>\n",
       "    <tr>\n",
       "      <th>0</th>\n",
       "      <td>c204jinn</td>\n",
       "      <td>Omsk</td>\n",
       "      <td>RUS</td>\n",
       "      <td>Russia's Federal Security Service (FSB) has re...</td>\n",
       "    </tr>\n",
       "    <tr>\n",
       "      <th>1</th>\n",
       "      <td>c204jidk</td>\n",
       "      <td>Omsk</td>\n",
       "      <td>RUS</td>\n",
       "      <td>Vladimir Putin had a working meeting with Acti...</td>\n",
       "    </tr>\n",
       "    <tr>\n",
       "      <th>2</th>\n",
       "      <td>c2046uay</td>\n",
       "      <td>Omsk</td>\n",
       "      <td>RUS</td>\n",
       "      <td>President Vladimir Putin has appointed the hea...</td>\n",
       "    </tr>\n",
       "    <tr>\n",
       "      <th>3</th>\n",
       "      <td>c2013td1</td>\n",
       "      <td>Omsk</td>\n",
       "      <td>RUS</td>\n",
       "      <td>Russian police have searched the home of a vol...</td>\n",
       "    </tr>\n",
       "    <tr>\n",
       "      <th>4</th>\n",
       "      <td>c200a87d</td>\n",
       "      <td>Omsk</td>\n",
       "      <td>RUS</td>\n",
       "      <td>A riot broke out at a high-security penal colo...</td>\n",
       "    </tr>\n",
       "    <tr>\n",
       "      <th>...</th>\n",
       "      <td>...</td>\n",
       "      <td>...</td>\n",
       "      <td>...</td>\n",
       "      <td>...</td>\n",
       "    </tr>\n",
       "    <tr>\n",
       "      <th>15426</th>\n",
       "      <td>m12nz4io</td>\n",
       "      <td>Jacobabad</td>\n",
       "      <td>PAK</td>\n",
       "      <td>A suspected Al-Qa'idah member was arrested for...</td>\n",
       "    </tr>\n",
       "    <tr>\n",
       "      <th>15427</th>\n",
       "      <td>m12is7i6</td>\n",
       "      <td>Jacobabad</td>\n",
       "      <td>PAK</td>\n",
       "      <td>Jacobabad: Army foiled a terrorists act to des...</td>\n",
       "    </tr>\n",
       "    <tr>\n",
       "      <th>15428</th>\n",
       "      <td>m12isath</td>\n",
       "      <td>Jacobabad</td>\n",
       "      <td>PAK</td>\n",
       "      <td>Jacobabad: Army foiled a terrorists act to des...</td>\n",
       "    </tr>\n",
       "    <tr>\n",
       "      <th>15429</th>\n",
       "      <td>m12iq95c</td>\n",
       "      <td>Jacobabad</td>\n",
       "      <td>PAK</td>\n",
       "      <td>Islamabad: An unmanned US spy plane has crashe...</td>\n",
       "    </tr>\n",
       "    <tr>\n",
       "      <th>15430</th>\n",
       "      <td>m12i4r8w</td>\n",
       "      <td>Jacobabad</td>\n",
       "      <td>PAK</td>\n",
       "      <td>Unknown people attacked a police post with roc...</td>\n",
       "    </tr>\n",
       "  </tbody>\n",
       "</table>\n",
       "<p>13180 rows × 4 columns</p>\n",
       "</div>"
      ],
      "text/plain": [
       "             id       city country  \\\n",
       "0      c204jinn       Omsk     RUS   \n",
       "1      c204jidk       Omsk     RUS   \n",
       "2      c2046uay       Omsk     RUS   \n",
       "3      c2013td1       Omsk     RUS   \n",
       "4      c200a87d       Omsk     RUS   \n",
       "...         ...        ...     ...   \n",
       "15426  m12nz4io  Jacobabad     PAK   \n",
       "15427  m12is7i6  Jacobabad     PAK   \n",
       "15428  m12isath  Jacobabad     PAK   \n",
       "15429  m12iq95c  Jacobabad     PAK   \n",
       "15430  m12i4r8w  Jacobabad     PAK   \n",
       "\n",
       "                                                    text  \n",
       "0      Russia's Federal Security Service (FSB) has re...  \n",
       "1      Vladimir Putin had a working meeting with Acti...  \n",
       "2      President Vladimir Putin has appointed the hea...  \n",
       "3      Russian police have searched the home of a vol...  \n",
       "4      A riot broke out at a high-security penal colo...  \n",
       "...                                                  ...  \n",
       "15426  A suspected Al-Qa'idah member was arrested for...  \n",
       "15427  Jacobabad: Army foiled a terrorists act to des...  \n",
       "15428  Jacobabad: Army foiled a terrorists act to des...  \n",
       "15429  Islamabad: An unmanned US spy plane has crashe...  \n",
       "15430  Unknown people attacked a police post with roc...  \n",
       "\n",
       "[13180 rows x 4 columns]"
      ]
     },
     "execution_count": 50,
     "metadata": {},
     "output_type": "execute_result"
    }
   ],
   "source": [
    "article_df"
   ]
  },
  {
   "cell_type": "code",
   "execution_count": 51,
   "metadata": {},
   "outputs": [
    {
     "name": "stderr",
     "output_type": "stream",
     "text": [
      "100%|██████████| 13180/13180 [00:00<00:00, 15586.95it/s]\n"
     ]
    }
   ],
   "source": [
    "article_sentences = []\n",
    "\n",
    "for i, row in tqdm(article_df.iterrows(), total=len(article_df)):\n",
    "    sentences = split_into_sentences(row.text)\n",
    "    new_row = {'id':row.id, 'city':row.city, 'country':row.country}\n",
    "    for sentence in sentences:\n",
    "        new_row[text] = sentence\n",
    "        article_sentences.append(new_row)\n",
    "        "
   ]
  },
  {
   "cell_type": "code",
   "execution_count": 55,
   "metadata": {},
   "outputs": [],
   "source": [
    "sentences_df = pd.DataFrame(article_sentences)\n",
    "sentences_df.to_csv('news_places_full.csv', index=False)"
   ]
  },
  {
   "cell_type": "code",
   "execution_count": null,
   "metadata": {},
   "outputs": [],
   "source": []
  }
 ],
 "metadata": {
  "kernelspec": {
   "display_name": "bbc-monitoring",
   "language": "python",
   "name": "python3"
  },
  "language_info": {
   "codemirror_mode": {
    "name": "ipython",
    "version": 3
   },
   "file_extension": ".py",
   "mimetype": "text/x-python",
   "name": "python",
   "nbconvert_exporter": "python",
   "pygments_lexer": "ipython3",
   "version": "3.12.1"
  }
 },
 "nbformat": 4,
 "nbformat_minor": 2
}
